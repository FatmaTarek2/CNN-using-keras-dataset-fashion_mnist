{
  "nbformat": 4,
  "nbformat_minor": 0,
  "metadata": {
    "colab": {
      "provenance": []
    },
    "kernelspec": {
      "name": "python3",
      "display_name": "Python 3"
    },
    "language_info": {
      "name": "python"
    }
  },
  "cells": [
    {
      "cell_type": "code",
      "source": [
        "%load_ext tensorboard"
      ],
      "metadata": {
        "id": "fsDB-jdlm2SS"
      },
      "execution_count": null,
      "outputs": []
    },
    {
      "cell_type": "code",
      "execution_count": null,
      "metadata": {
        "id": "EoGeG8mc_v2o"
      },
      "outputs": [],
      "source": [
        "import tensorflow as tf\n",
        "import datetime , os"
      ]
    },
    {
      "cell_type": "code",
      "source": [
        "fashion_mnist = tf.keras.datasets.fashion_mnist\n",
        "(x_train,y_train),(x_test,y_test)= fashion_mnist.load_data()\n",
        "x_train,x_test = x_train/255.0, x_test/255.0"
      ],
      "metadata": {
        "colab": {
          "base_uri": "https://localhost:8080/"
        },
        "id": "-XnMId0nmy0-",
        "outputId": "f54b8060-ba9c-4062-ab0d-dbb45a8e7fa4"
      },
      "execution_count": null,
      "outputs": [
        {
          "output_type": "stream",
          "name": "stdout",
          "text": [
            "Downloading data from https://storage.googleapis.com/tensorflow/tf-keras-datasets/train-labels-idx1-ubyte.gz\n",
            "29515/29515 [==============================] - 0s 1us/step\n",
            "Downloading data from https://storage.googleapis.com/tensorflow/tf-keras-datasets/train-images-idx3-ubyte.gz\n",
            "26421880/26421880 [==============================] - 2s 0us/step\n",
            "Downloading data from https://storage.googleapis.com/tensorflow/tf-keras-datasets/t10k-labels-idx1-ubyte.gz\n",
            "5148/5148 [==============================] - 0s 0us/step\n",
            "Downloading data from https://storage.googleapis.com/tensorflow/tf-keras-datasets/t10k-images-idx3-ubyte.gz\n",
            "4422102/4422102 [==============================] - 1s 0us/step\n"
          ]
        }
      ]
    },
    {
      "cell_type": "code",
      "source": [
        "x_train"
      ],
      "metadata": {
        "colab": {
          "base_uri": "https://localhost:8080/"
        },
        "id": "FkrnH247qbHx",
        "outputId": "495cf979-6ab1-44ed-c55f-dff9bd836325"
      },
      "execution_count": null,
      "outputs": [
        {
          "output_type": "execute_result",
          "data": {
            "text/plain": [
              "array([[[0., 0., 0., ..., 0., 0., 0.],\n",
              "        [0., 0., 0., ..., 0., 0., 0.],\n",
              "        [0., 0., 0., ..., 0., 0., 0.],\n",
              "        ...,\n",
              "        [0., 0., 0., ..., 0., 0., 0.],\n",
              "        [0., 0., 0., ..., 0., 0., 0.],\n",
              "        [0., 0., 0., ..., 0., 0., 0.]],\n",
              "\n",
              "       [[0., 0., 0., ..., 0., 0., 0.],\n",
              "        [0., 0., 0., ..., 0., 0., 0.],\n",
              "        [0., 0., 0., ..., 0., 0., 0.],\n",
              "        ...,\n",
              "        [0., 0., 0., ..., 0., 0., 0.],\n",
              "        [0., 0., 0., ..., 0., 0., 0.],\n",
              "        [0., 0., 0., ..., 0., 0., 0.]],\n",
              "\n",
              "       [[0., 0., 0., ..., 0., 0., 0.],\n",
              "        [0., 0., 0., ..., 0., 0., 0.],\n",
              "        [0., 0., 0., ..., 0., 0., 0.],\n",
              "        ...,\n",
              "        [0., 0., 0., ..., 0., 0., 0.],\n",
              "        [0., 0., 0., ..., 0., 0., 0.],\n",
              "        [0., 0., 0., ..., 0., 0., 0.]],\n",
              "\n",
              "       ...,\n",
              "\n",
              "       [[0., 0., 0., ..., 0., 0., 0.],\n",
              "        [0., 0., 0., ..., 0., 0., 0.],\n",
              "        [0., 0., 0., ..., 0., 0., 0.],\n",
              "        ...,\n",
              "        [0., 0., 0., ..., 0., 0., 0.],\n",
              "        [0., 0., 0., ..., 0., 0., 0.],\n",
              "        [0., 0., 0., ..., 0., 0., 0.]],\n",
              "\n",
              "       [[0., 0., 0., ..., 0., 0., 0.],\n",
              "        [0., 0., 0., ..., 0., 0., 0.],\n",
              "        [0., 0., 0., ..., 0., 0., 0.],\n",
              "        ...,\n",
              "        [0., 0., 0., ..., 0., 0., 0.],\n",
              "        [0., 0., 0., ..., 0., 0., 0.],\n",
              "        [0., 0., 0., ..., 0., 0., 0.]],\n",
              "\n",
              "       [[0., 0., 0., ..., 0., 0., 0.],\n",
              "        [0., 0., 0., ..., 0., 0., 0.],\n",
              "        [0., 0., 0., ..., 0., 0., 0.],\n",
              "        ...,\n",
              "        [0., 0., 0., ..., 0., 0., 0.],\n",
              "        [0., 0., 0., ..., 0., 0., 0.],\n",
              "        [0., 0., 0., ..., 0., 0., 0.]]])"
            ]
          },
          "metadata": {},
          "execution_count": 6
        }
      ]
    },
    {
      "cell_type": "code",
      "source": [
        "def create_model():\n",
        "  return tf.keras.models.Sequential([\n",
        "      tf.keras.layers.Flatten(input_shape=(28,28),name='layers_flatten'),\n",
        "      tf.keras.layers.Dense(512, activation='relu',name= 'layers_dense'),\n",
        "      tf.keras.layers.Dropout(0.2, name='layers_dropout'),\n",
        "      tf.keras.layers.Dense(10, activation='softmax',name= 'layers_dense_2')\n",
        "  ])"
      ],
      "metadata": {
        "id": "2uz4q43zoiDP"
      },
      "execution_count": null,
      "outputs": []
    },
    {
      "cell_type": "code",
      "source": [
        "def train_model():\n",
        "  model = create_model()\n",
        "  model.compile(optimizer='Adam',loss='sparse_categorical_crossentropy',metrics=['accuracy'])\n",
        "  logdir = os.path.join(\"logs\",datetime.datetime.now().strftime(\"%Y%m%d-%H%M%S\"))\n",
        "  tensorboard_callback = tf.keras.callbacks.TensorBoard(logdir,histogram_freq=1)\n",
        "  model.fit( x = x_train,y = y_train, epochs = 10, validation_data = (x_test , y_test), callbacks=[tensorboard_callback])\n",
        "train_model()"
      ],
      "metadata": {
        "colab": {
          "base_uri": "https://localhost:8080/"
        },
        "id": "dlig0esEr1eH",
        "outputId": "361a3e78-3c5c-4eb4-a693-eac28d6b782a"
      },
      "execution_count": null,
      "outputs": [
        {
          "output_type": "stream",
          "name": "stdout",
          "text": [
            "Epoch 1/10\n",
            "1875/1875 [==============================] - 18s 9ms/step - loss: 0.4984 - accuracy: 0.8198 - val_loss: 0.4610 - val_accuracy: 0.8303\n",
            "Epoch 2/10\n",
            "1875/1875 [==============================] - 17s 9ms/step - loss: 0.3818 - accuracy: 0.8598 - val_loss: 0.3978 - val_accuracy: 0.8498\n",
            "Epoch 3/10\n",
            "1875/1875 [==============================] - 17s 9ms/step - loss: 0.3499 - accuracy: 0.8716 - val_loss: 0.4293 - val_accuracy: 0.8444\n",
            "Epoch 4/10\n",
            "1875/1875 [==============================] - 17s 9ms/step - loss: 0.3282 - accuracy: 0.8778 - val_loss: 0.3604 - val_accuracy: 0.8657\n",
            "Epoch 5/10\n",
            "1875/1875 [==============================] - 17s 9ms/step - loss: 0.3157 - accuracy: 0.8838 - val_loss: 0.3449 - val_accuracy: 0.8774\n",
            "Epoch 6/10\n",
            "1875/1875 [==============================] - 17s 9ms/step - loss: 0.3020 - accuracy: 0.8875 - val_loss: 0.3441 - val_accuracy: 0.8749\n",
            "Epoch 7/10\n",
            "1875/1875 [==============================] - 17s 9ms/step - loss: 0.2906 - accuracy: 0.8914 - val_loss: 0.3354 - val_accuracy: 0.8806\n",
            "Epoch 8/10\n",
            "1875/1875 [==============================] - 17s 9ms/step - loss: 0.2796 - accuracy: 0.8947 - val_loss: 0.3329 - val_accuracy: 0.8796\n",
            "Epoch 9/10\n",
            "1875/1875 [==============================] - 17s 9ms/step - loss: 0.2725 - accuracy: 0.8971 - val_loss: 0.3376 - val_accuracy: 0.8843\n",
            "Epoch 10/10\n",
            "1875/1875 [==============================] - 17s 9ms/step - loss: 0.2643 - accuracy: 0.9008 - val_loss: 0.3327 - val_accuracy: 0.8837\n"
          ]
        }
      ]
    },
    {
      "cell_type": "code",
      "source": [
        "def train_model():\n",
        "  model = create_model()\n",
        "  OPTIMIZER = tf.keras.optimizers.Adagrad(learning_rate= 0.1,initial_accumulator_value=0.1,epsilon=1e-07,use_ema=False,ema_momentum=0.99,jit_compile=True,name=\"Adagrad\")\n",
        "  model.compile(optimizer=OPTIMIZER,loss='sparse_categorical_crossentropy',metrics=['accuracy'])\n",
        "  logdir = os.path.join(\"logs\",datetime.datetime.now().strftime(\"%Y%m%d-%H%M%S\"))\n",
        "  tensorboard_callback = tf.keras.callbacks.TensorBoard(logdir,histogram_freq=1)\n",
        "  model.fit( x = x_train,y = y_train, epochs = 10, validation_data = (x_test , y_test), callbacks=[tensorboard_callback])\n",
        "train_model()"
      ],
      "metadata": {
        "colab": {
          "base_uri": "https://localhost:8080/"
        },
        "id": "Ma7cOZ1G6Y6T",
        "outputId": "eaa15c44-1429-45b2-c638-73994f8acad2"
      },
      "execution_count": null,
      "outputs": [
        {
          "output_type": "stream",
          "name": "stdout",
          "text": [
            "Epoch 1/10\n",
            "1875/1875 [==============================] - 15s 8ms/step - loss: 0.5386 - accuracy: 0.8045 - val_loss: 0.4461 - val_accuracy: 0.8364\n",
            "Epoch 2/10\n",
            "1875/1875 [==============================] - 15s 8ms/step - loss: 0.3964 - accuracy: 0.8548 - val_loss: 0.3911 - val_accuracy: 0.8540\n",
            "Epoch 3/10\n",
            "1875/1875 [==============================] - 14s 8ms/step - loss: 0.3579 - accuracy: 0.8672 - val_loss: 0.3792 - val_accuracy: 0.8616\n",
            "Epoch 4/10\n",
            "1875/1875 [==============================] - 15s 8ms/step - loss: 0.3335 - accuracy: 0.8770 - val_loss: 0.3635 - val_accuracy: 0.8671\n",
            "Epoch 5/10\n",
            "1875/1875 [==============================] - 15s 8ms/step - loss: 0.3169 - accuracy: 0.8833 - val_loss: 0.3729 - val_accuracy: 0.8657\n",
            "Epoch 6/10\n",
            "1875/1875 [==============================] - 15s 8ms/step - loss: 0.3029 - accuracy: 0.8875 - val_loss: 0.3604 - val_accuracy: 0.8696\n",
            "Epoch 7/10\n",
            "1875/1875 [==============================] - 15s 8ms/step - loss: 0.2908 - accuracy: 0.8919 - val_loss: 0.3463 - val_accuracy: 0.8758\n",
            "Epoch 8/10\n",
            "1875/1875 [==============================] - 15s 8ms/step - loss: 0.2790 - accuracy: 0.8957 - val_loss: 0.3272 - val_accuracy: 0.8824\n",
            "Epoch 9/10\n",
            "1875/1875 [==============================] - 15s 8ms/step - loss: 0.2707 - accuracy: 0.8989 - val_loss: 0.3255 - val_accuracy: 0.8815\n",
            "Epoch 10/10\n",
            "1875/1875 [==============================] - 15s 8ms/step - loss: 0.2632 - accuracy: 0.9004 - val_loss: 0.3216 - val_accuracy: 0.8846\n"
          ]
        }
      ]
    },
    {
      "cell_type": "code",
      "source": [],
      "metadata": {
        "id": "uFmn0H_z_kOr"
      },
      "execution_count": null,
      "outputs": []
    }
  ]
}